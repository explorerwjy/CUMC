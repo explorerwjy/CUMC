{
 "cells": [
  {
   "cell_type": "code",
   "execution_count": 3,
   "metadata": {
    "collapsed": false
   },
   "outputs": [],
   "source": [
    "import numpy as np\n",
    "import os\n",
    "import sys\n",
    "import shutil\n",
    "from keras.utils import np_utils, generic_utils\n",
    "from utils import load_data, get_minst_model"
   ]
  },
  {
   "cell_type": "code",
   "execution_count": 9,
   "metadata": {
    "collapsed": true
   },
   "outputs": [],
   "source": [
    "def load_train_data():\n",
    "    \"\"\"\n",
    "    Load training data from .npy files.\n",
    "    \n",
    "    # normalization, not sure whether will work\n",
    "    scale = np.max(data)\n",
    "    data /= scale\n",
    "    mean = np.std(data)\n",
    "    data -= mean\n",
    "    \"\"\"\n",
    "    X = np.load('data/train.npy')\n",
    "    y = np.load('data/label.npy')\n",
    "\n",
    "    X = X.astype(np.float32)\n",
    "    X /= 255\n",
    "    \n",
    "    \n",
    "    return X, y\n",
    "\n",
    "def train():\n",
    "    \"\"\"\n",
    "    Training using minst models.\n",
    "    \"\"\"\n",
    "    \n",
    "    nb_classes = 6 \n",
    "    min_val_loss = sys.float_info.max\n",
    "    nb_iter = 5\n",
    "    epochs_per_iter = 2\n",
    "    batch_size = 64\n",
    "    best_accuracy = 0.0\n",
    "    \n",
    "    print('Loading and compiling models...')\n",
    "    conv_model = get_minst_model('weights_conv_best1005.hdf5')\n",
    "\n",
    "    print('Loading training data...')\n",
    "    X_train, y_train = load_train_data()\n",
    "    y_train = np_utils.to_categorical(y_train, nb_classes) \n",
    "    \n",
    "    print('-'*50)\n",
    "    print('Training...')\n",
    "    print('-'*50)\n",
    "\n",
    "    for i in range(nb_iter):\n",
    "        print('-'*50)\n",
    "        print('Iteration {0}/{1}'.format(i + 1, nb_iter))\n",
    "        print('-'*50)\n",
    "\n",
    "        print('Fitting  model...')\n",
    "        hist_conv = conv_model.fit(X_train, y_train,shuffle = True, validation_split=0.2, \n",
    "                  nb_epoch=epochs_per_iter,batch_size=batch_size, \n",
    "                  verbose=1,show_accuracy=True)\n",
    "        loss = hist_conv.history['loss'][-1]\n",
    "        val_loss = hist_conv.history['val_loss'][-1]\n",
    "        \n",
    "        if val_loss < min_val_loss:\n",
    "            min_val_loss = val_loss\n",
    "            conv_model.save_weights('weights_conv_best.hdf5', overwrite=True)"
   ]
  },
  {
   "cell_type": "code",
   "execution_count": 10,
   "metadata": {
    "collapsed": false
   },
   "outputs": [
    {
     "name": "stdout",
     "output_type": "stream",
     "text": [
      "Loading and compiling models...\n",
      "Loading training data...\n",
      "--------------------------------------------------\n",
      "Training...\n",
      "--------------------------------------------------\n",
      "--------------------------------------------------\n",
      "Iteration 1/5\n",
      "--------------------------------------------------\n",
      "Fitting  model...\n"
     ]
    },
    {
     "name": "stderr",
     "output_type": "stream",
     "text": [
      "INFO (theano.gof.compilelock): Refreshing lock /Users/hongjian/.theano/compiledir_Darwin-15.6.0-x86_64-i386-64bit-i386-2.7.12-64/lock_dir/lock\n"
     ]
    },
    {
     "name": "stdout",
     "output_type": "stream",
     "text": [
      "Train on 16 samples, validate on 4 samples\n",
      "Epoch 1/2\n",
      "16/16 [==============================] - 1s - loss: 1.0431 - val_loss: 4.6194e-06\n",
      "Epoch 2/2\n",
      "16/16 [==============================] - 1s - loss: 0.6506 - val_loss: 7.2867e-06\n",
      "--------------------------------------------------\n",
      "Iteration 2/5\n",
      "--------------------------------------------------\n",
      "Fitting  model...\n",
      "Train on 16 samples, validate on 4 samples\n",
      "Epoch 1/2\n",
      "16/16 [==============================] - 1s - loss: 0.1658 - val_loss: 1.0908e-05\n",
      "Epoch 2/2\n",
      "16/16 [==============================] - 1s - loss: 0.1762 - val_loss: 8.7918e-06\n",
      "--------------------------------------------------\n",
      "Iteration 3/5\n",
      "--------------------------------------------------\n",
      "Fitting  model...\n",
      "Train on 16 samples, validate on 4 samples\n",
      "Epoch 1/2\n",
      "16/16 [==============================] - 1s - loss: 0.3397 - val_loss: 1.2026e-05\n",
      "Epoch 2/2\n",
      "16/16 [==============================] - 1s - loss: 0.1121 - val_loss: 8.0020e-06\n",
      "--------------------------------------------------\n",
      "Iteration 4/5\n",
      "--------------------------------------------------\n",
      "Fitting  model...\n",
      "Train on 16 samples, validate on 4 samples\n",
      "Epoch 1/2\n",
      "16/16 [==============================] - 1s - loss: 0.1068 - val_loss: 4.5896e-06\n",
      "Epoch 2/2\n",
      "16/16 [==============================] - 1s - loss: 0.0496 - val_loss: 2.5630e-06\n",
      "--------------------------------------------------\n",
      "Iteration 5/5\n",
      "--------------------------------------------------\n",
      "Fitting  model...\n",
      "Train on 16 samples, validate on 4 samples\n",
      "Epoch 1/2\n",
      "16/16 [==============================] - 2s - loss: 0.2514 - val_loss: 1.2517e-06\n",
      "Epoch 2/2\n",
      "16/16 [==============================] - 1s - loss: 0.0482 - val_loss: 6.1095e-07\n"
     ]
    }
   ],
   "source": [
    "train()"
   ]
  },
  {
   "cell_type": "code",
   "execution_count": null,
   "metadata": {
    "collapsed": false
   },
   "outputs": [],
   "source": [
    "loss, accuracy = conv_model.evaluate(train_dataset, train_labels, show_accuracy=True, verbose=1)\n",
    "print('loss: ', loss)\n",
    "print('accuracy: ', accuracy)"
   ]
  }
 ],
 "metadata": {
  "hide_input": false,
  "kernelspec": {
   "display_name": "Python 2",
   "language": "python",
   "name": "python2"
  },
  "language_info": {
   "codemirror_mode": {
    "name": "ipython",
    "version": 2
   },
   "file_extension": ".py",
   "mimetype": "text/x-python",
   "name": "python",
   "nbconvert_exporter": "python",
   "pygments_lexer": "ipython2",
   "version": "2.7.12"
  },
  "toc": {
   "toc_cell": false,
   "toc_number_sections": true,
   "toc_threshold": 6,
   "toc_window_display": false
  }
 },
 "nbformat": 4,
 "nbformat_minor": 0
}
