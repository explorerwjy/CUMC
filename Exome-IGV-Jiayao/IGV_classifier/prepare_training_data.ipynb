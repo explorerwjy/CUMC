{
 "cells": [
  {
   "cell_type": "code",
   "execution_count": 1,
   "metadata": {
    "collapsed": false
   },
   "outputs": [
    {
     "name": "stderr",
     "output_type": "stream",
     "text": [
      "Using Theano backend.\n"
     ]
    }
   ],
   "source": [
    "from PIL import Image\n",
    "import numpy as np\n",
    "import os\n",
    "import re\n",
    "from utils import process_one_image, load_data, maybe_npy"
   ]
  },
  {
   "cell_type": "markdown",
   "metadata": {},
   "source": [
    "# we take all the images in data folders, process them and save them into npy format for future training"
   ]
  },
  {
   "cell_type": "markdown",
   "metadata": {},
   "source": [
    "# load processed image data into dataset"
   ]
  },
  {
   "cell_type": "code",
   "execution_count": 2,
   "metadata": {
    "collapsed": false
   },
   "outputs": [
    {
     "name": "stdout",
     "output_type": "stream",
     "text": [
      "npying data/fail.npy.\n",
      " x 0 sample.2.114737231.png\n",
      "npying data/snp.npy.\n",
      " x 0 sample.1.144857493.png\n",
      "npying data/insertion.npy.\n",
      " x 0 sample.1.245134187.png\n",
      "npying data/deletion.npy.\n",
      " x 0 sample.10.17715298.png\n",
      "npying data/complex.npy.\n",
      " x 0 CG0003-6741_Illumina.bam,CG0003-6253_Illumina.bam,CG0003-6262_Illumina.bam.20.39869114.png\n",
      "npying data/uncertain.npy.\n",
      " x 0 COL-CHUNG_FPPH133-01_PAH_0165706180.realign.bam,COL-CHUNG_FPPH133-03_PAH_0165706253.realign.bam,COL-CHUNG_FPPH133-02_PAH_0165706266.realign.bam,20.62326555.62326595.png\n"
     ]
    }
   ],
   "source": [
    "n_block = 2\n",
    "image_width, image_height  = 128, 128\n",
    "color_channel = 3\n",
    "data_folders = ['data/fail', 'data/snp', 'data/insertion', \n",
    "                'data/deletion','data/complex','data/uncertain']\n",
    "\n",
    "dataset = maybe_npy(data_folders, n_block, image_width, image_height, True)"
   ]
  },
  {
   "cell_type": "code",
   "execution_count": 3,
   "metadata": {
    "collapsed": false
   },
   "outputs": [
    {
     "name": "stdout",
     "output_type": "stream",
     "text": [
      "20\n",
      "['data/fail.npy', 'data/snp.npy', 'data/insertion.npy', 'data/deletion.npy', 'data/complex.npy', 'data/uncertain.npy']\n"
     ]
    }
   ],
   "source": [
    "all_image_names = []\n",
    "for folder in data_folders:\n",
    "    image_files = os.listdir(folder)\n",
    "    all_image_names.extend(image_files)\n",
    "all_image_names = np.array(all_image_names)\n",
    "print len(all_image_names)\n",
    "print dataset"
   ]
  },
  {
   "cell_type": "markdown",
   "metadata": {},
   "source": [
    "# save data into npy format"
   ]
  },
  {
   "cell_type": "code",
   "execution_count": 5,
   "metadata": {
    "collapsed": false
   },
   "outputs": [
    {
     "name": "stdout",
     "output_type": "stream",
     "text": [
      "data/fail.npy\n",
      "data/snp.npy\n",
      "data/insertion.npy\n",
      "data/deletion.npy\n",
      "data/complex.npy\n",
      "data/uncertain.npy\n",
      "(20, ' samples')\n",
      "(20, 3, 128, 128)\n",
      "(20,)\n"
     ]
    }
   ],
   "source": [
    "name_to_label = {'fail.npy': 0, 'snp.npy':1, 'insertion.npy':2,'deletion.npy':3,\n",
    "                 'complex.npy':4,'uncertain.npy':5, }\n",
    "\n",
    "label_to_name = {0:'fail', 1:'snp', 2:'insertion', 3:'deletion', 4:'complex', 5:'uncertain'}\n",
    "\n",
    "total_n = len(all_image_names)\n",
    "train = np.ndarray(shape=(total_n, color_channel, image_width, image_height),\n",
    "                         dtype=np.uint8)\n",
    "label = np.ndarray((total_n,),dtype=\"uint8\")\n",
    "\n",
    "# combine npy \n",
    "start = 0\n",
    "for data_name in dataset:\n",
    "    print data_name\n",
    "    data = np.load(data_name)\n",
    "    data = np.array(data, dtype=np.uint8)\n",
    "    end = data.shape[0]\n",
    "    data_label = np.repeat(name_to_label[data_name.split('/')[-1]], end)\n",
    "    train[start:start+end,:,:,:] = data\n",
    "    label[start:start+end] = data_label\n",
    "    start += end\n",
    "\n",
    "# shuffle \n",
    "index = [i for i in range(total_n)]\n",
    "np.random.shuffle(index)\n",
    "train = train[index]\n",
    "label = label[index]\n",
    "all_image_names = all_image_names[index]\n",
    "print(train.shape[0], ' samples')\n",
    "print train.shape\n",
    "print label.shape\n",
    "np.save('data/train.npy', train)\n",
    "np.save('data/label.npy', label)\n",
    "np.save('data/name.npy', all_image_names)"
   ]
  },
  {
   "cell_type": "markdown",
   "metadata": {},
   "source": [
    "# view a random sample"
   ]
  },
  {
   "cell_type": "code",
   "execution_count": 9,
   "metadata": {
    "collapsed": false
   },
   "outputs": [
    {
     "name": "stdout",
     "output_type": "stream",
     "text": [
      "uncertain\n",
      "sample.19.49984528.png\n"
     ]
    },
    {
     "data": {
      "image/png": "[encoded data removed]",
      "text/plain": [
       "<PIL.Image.Image image mode=RGB size=128x128 at 0x10CD9B390>"
      ]
     },
     "execution_count": 9,
     "metadata": {},
     "output_type": "execute_result"
    }
   ],
   "source": [
    "X = train\n",
    "X = X.transpose((0, 2, 3, 1))\n",
    "index = 7\n",
    "img = Image.fromarray(X[index],'RGB')\n",
    "print label_to_name[label[index]]\n",
    "print all_image_names[index]\n",
    "img"
   ]
  }
 ],
 "metadata": {
  "hide_input": false,
  "kernelspec": {
   "display_name": "Python 2",
   "language": "python",
   "name": "python2"
  },
  "language_info": {
   "codemirror_mode": {
    "name": "ipython",
    "version": 2
   },
   "file_extension": ".py",
   "mimetype": "text/x-python",
   "name": "python",
   "nbconvert_exporter": "python",
   "pygments_lexer": "ipython2",
   "version": "2.7.12"
  },
  "toc": {
   "toc_cell": false,
   "toc_number_sections": true,
   "toc_threshold": 6,
   "toc_window_display": false
  }
 },
 "nbformat": 4,
 "nbformat_minor": 0
}
