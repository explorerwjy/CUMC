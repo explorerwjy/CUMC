{
 "cells": [
  {
   "cell_type": "code",
   "execution_count": 7,
   "metadata": {
    "collapsed": false
   },
   "outputs": [],
   "source": [
    "import os\n",
    "import shutil\n",
    "from utils import load_data, get_minst_model"
   ]
  },
  {
   "cell_type": "markdown",
   "metadata": {},
   "source": [
    "# run prediction on images in the origin_igv folder and save the images into different folder(fail/snp/insertion/deletion) based on prediction "
   ]
  },
  {
   "cell_type": "code",
   "execution_count": 5,
   "metadata": {
    "collapsed": false
   },
   "outputs": [],
   "source": [
    "n_block = 2\n",
    "image_width, image_height  = 128, 128\n",
    "color_channel = 3\n",
    "origin_model = get_minst_model('weights_conv_best1005.hdf5')"
   ]
  },
  {
   "cell_type": "code",
   "execution_count": 6,
   "metadata": {
    "collapsed": false
   },
   "outputs": [
    {
     "name": "stdout",
     "output_type": "stream",
     "text": [
      " x 0 sample.14.105420714.png\n",
      "3/3 [==============================] - 0s\n",
      "3/3 [==============================] - 0s\n"
     ]
    }
   ],
   "source": [
    "folder = './'\n",
    "origin_igv = 'prediction_test/'\n",
    "name_to_label = {'fail': 0, 'snp':1, 'insertion':2, 'deletion':3, 'complex':4, 'uncertain':5}\n",
    "label_to_name = {}\n",
    "for name in name_to_label:\n",
    "    folder_name = folder+name+'/'\n",
    "    if not os.path.exists(folder_name):\n",
    "        os.makedirs(folder_name)\n",
    "    label_to_name[name_to_label[name]] = folder_name\n",
    "\n",
    "dataset = load_data(origin_igv, n_block, image_width, image_height)\n",
    "image_files = os.listdir(origin_igv)\n",
    "num = len(image_files)\n",
    "\n",
    "pred_label = origin_model.predict_classes(dataset,batch_size=64, verbose=1)\n",
    "pred_proba = origin_model.predict_proba(dataset,batch_size=64, verbose=1)\n",
    "for i in range(num):\n",
    "    pred_folder = label_to_name[pred_label[i]]\n",
    "    shutil.copy(origin_igv+image_files[i], pred_folder+image_files[i])"
   ]
  },
  {
   "cell_type": "code",
   "execution_count": null,
   "metadata": {
    "collapsed": true
   },
   "outputs": [],
   "source": []
  }
 ],
 "metadata": {
  "hide_input": false,
  "kernelspec": {
   "display_name": "Python 2",
   "language": "python",
   "name": "python2"
  },
  "language_info": {
   "codemirror_mode": {
    "name": "ipython",
    "version": 2
   },
   "file_extension": ".py",
   "mimetype": "text/x-python",
   "name": "python",
   "nbconvert_exporter": "python",
   "pygments_lexer": "ipython2",
   "version": "2.7.12"
  },
  "toc": {
   "toc_cell": false,
   "toc_number_sections": true,
   "toc_threshold": 6,
   "toc_window_display": false
  }
 },
 "nbformat": 4,
 "nbformat_minor": 0
}
